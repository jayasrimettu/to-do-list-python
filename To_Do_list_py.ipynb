{
  "nbformat": 4,
  "nbformat_minor": 0,
  "metadata": {
    "colab": {
      "provenance": [],
      "authorship_tag": "ABX9TyPWhHWZzNTxCEM7JrpVU0YP",
      "include_colab_link": true
    },
    "kernelspec": {
      "name": "python3",
      "display_name": "Python 3"
    },
    "language_info": {
      "name": "python"
    }
  },
  "cells": [
    {
      "cell_type": "markdown",
      "metadata": {
        "id": "view-in-github",
        "colab_type": "text"
      },
      "source": [
        "<a href=\"https://colab.research.google.com/github/jayasrimettu/to-do-list-python/blob/main/To_Do_list_py.ipynb\" target=\"_parent\"><img src=\"https://colab.research.google.com/assets/colab-badge.svg\" alt=\"Open In Colab\"/></a>"
      ]
    },
    {
      "cell_type": "code",
      "execution_count": null,
      "metadata": {
        "colab": {
          "base_uri": "https://localhost:8080/",
          "height": 283
        },
        "id": "7osV7chXGDkL",
        "outputId": "9526d8ad-8380-4410-f02e-2a6be705f485"
      },
      "outputs": [
        {
          "output_type": "display_data",
          "data": {
            "text/plain": [],
            "text/html": [
              "<pre style=\"white-space:pre;overflow-x:auto;line-height:normal;font-family:Menlo,'DejaVu Sans Mono',consolas,'Courier New',monospace\"></pre>\n"
            ]
          },
          "metadata": {}
        },
        {
          "output_type": "display_data",
          "data": {
            "text/plain": [
              "\u001b[3m            📝 TO-DO LIST             \u001b[0m\n",
              "\u001b[1;36m╔═════╤═════════════════╤════════════╗\u001b[0m\n",
              "\u001b[1;36m║\u001b[0m\u001b[1m \u001b[0m\u001b[1mNo.\u001b[0m\u001b[1m \u001b[0m\u001b[1;36m│\u001b[0m\u001b[1m \u001b[0m\u001b[1mTask           \u001b[0m\u001b[1m \u001b[0m\u001b[1;36m│\u001b[0m\u001b[1m \u001b[0m\u001b[1m  Status  \u001b[0m\u001b[1m \u001b[0m\u001b[1;36m║\u001b[0m\n",
              "\u001b[1;36m╟─────┼─────────────────┼────────────╢\u001b[0m\n",
              "\u001b[1;36m║\u001b[0m\u001b[1;33m \u001b[0m\u001b[1;33m 1 \u001b[0m\u001b[1;33m \u001b[0m\u001b[1;36m│\u001b[0m practice python \u001b[1;36m│\u001b[0m \u001b[31m✗ Not done\u001b[0m \u001b[1;36m║\u001b[0m\n",
              "\u001b[1;36m║\u001b[0m\u001b[1;33m \u001b[0m\u001b[1;33m 2 \u001b[0m\u001b[1;33m \u001b[0m\u001b[1;36m│\u001b[0m clean my room   \u001b[1;36m│\u001b[0m   \u001b[32m✓ Done\u001b[0m   \u001b[1;36m║\u001b[0m\n",
              "\u001b[1;36m╚═════╧═════════════════╧════════════╝\u001b[0m\n"
            ],
            "text/html": [
              "<pre style=\"white-space:pre;overflow-x:auto;line-height:normal;font-family:Menlo,'DejaVu Sans Mono',consolas,'Courier New',monospace\"><span style=\"font-style: italic\">            📝 TO-DO LIST             </span>\n",
              "<span style=\"color: #008080; text-decoration-color: #008080; font-weight: bold\">╔═════╤═════════════════╤════════════╗</span>\n",
              "<span style=\"color: #008080; text-decoration-color: #008080; font-weight: bold\">║</span><span style=\"font-weight: bold\"> No. </span><span style=\"color: #008080; text-decoration-color: #008080; font-weight: bold\">│</span><span style=\"font-weight: bold\"> Task            </span><span style=\"color: #008080; text-decoration-color: #008080; font-weight: bold\">│</span><span style=\"font-weight: bold\">   Status   </span><span style=\"color: #008080; text-decoration-color: #008080; font-weight: bold\">║</span>\n",
              "<span style=\"color: #008080; text-decoration-color: #008080; font-weight: bold\">╟─────┼─────────────────┼────────────╢</span>\n",
              "<span style=\"color: #008080; text-decoration-color: #008080; font-weight: bold\">║</span><span style=\"color: #808000; text-decoration-color: #808000; font-weight: bold\">  1  </span><span style=\"color: #008080; text-decoration-color: #008080; font-weight: bold\">│</span> practice python <span style=\"color: #008080; text-decoration-color: #008080; font-weight: bold\">│</span> <span style=\"color: #800000; text-decoration-color: #800000\">✗ Not done</span> <span style=\"color: #008080; text-decoration-color: #008080; font-weight: bold\">║</span>\n",
              "<span style=\"color: #008080; text-decoration-color: #008080; font-weight: bold\">║</span><span style=\"color: #808000; text-decoration-color: #808000; font-weight: bold\">  2  </span><span style=\"color: #008080; text-decoration-color: #008080; font-weight: bold\">│</span> clean my room   <span style=\"color: #008080; text-decoration-color: #008080; font-weight: bold\">│</span>   <span style=\"color: #008000; text-decoration-color: #008000\">✓ Done</span>   <span style=\"color: #008080; text-decoration-color: #008080; font-weight: bold\">║</span>\n",
              "<span style=\"color: #008080; text-decoration-color: #008080; font-weight: bold\">╚═════╧═════════════════╧════════════╝</span>\n",
              "</pre>\n"
            ]
          },
          "metadata": {}
        },
        {
          "output_type": "display_data",
          "data": {
            "text/plain": [
              "\n",
              "\u001b[1;35mMENU:\u001b[0m\n"
            ],
            "text/html": [
              "<pre style=\"white-space:pre;overflow-x:auto;line-height:normal;font-family:Menlo,'DejaVu Sans Mono',consolas,'Courier New',monospace\">\n",
              "<span style=\"color: #800080; text-decoration-color: #800080; font-weight: bold\">MENU:</span>\n",
              "</pre>\n"
            ]
          },
          "metadata": {}
        },
        {
          "output_type": "display_data",
          "data": {
            "text/plain": [
              "\u001b[1;36m1\u001b[0m. Add Task\n"
            ],
            "text/html": [
              "<pre style=\"white-space:pre;overflow-x:auto;line-height:normal;font-family:Menlo,'DejaVu Sans Mono',consolas,'Courier New',monospace\"><span style=\"color: #008080; text-decoration-color: #008080; font-weight: bold\">1</span>. Add Task\n",
              "</pre>\n"
            ]
          },
          "metadata": {}
        },
        {
          "output_type": "display_data",
          "data": {
            "text/plain": [
              "\u001b[1;36m2\u001b[0m. Mark Done/Undone\n"
            ],
            "text/html": [
              "<pre style=\"white-space:pre;overflow-x:auto;line-height:normal;font-family:Menlo,'DejaVu Sans Mono',consolas,'Courier New',monospace\"><span style=\"color: #008080; text-decoration-color: #008080; font-weight: bold\">2</span>. Mark Done/Undone\n",
              "</pre>\n"
            ]
          },
          "metadata": {}
        },
        {
          "output_type": "display_data",
          "data": {
            "text/plain": [
              "\u001b[1;36m3\u001b[0m. Edit Task\n"
            ],
            "text/html": [
              "<pre style=\"white-space:pre;overflow-x:auto;line-height:normal;font-family:Menlo,'DejaVu Sans Mono',consolas,'Courier New',monospace\"><span style=\"color: #008080; text-decoration-color: #008080; font-weight: bold\">3</span>. Edit Task\n",
              "</pre>\n"
            ]
          },
          "metadata": {}
        },
        {
          "output_type": "display_data",
          "data": {
            "text/plain": [
              "\u001b[1;36m4\u001b[0m. Delete Task\n"
            ],
            "text/html": [
              "<pre style=\"white-space:pre;overflow-x:auto;line-height:normal;font-family:Menlo,'DejaVu Sans Mono',consolas,'Courier New',monospace\"><span style=\"color: #008080; text-decoration-color: #008080; font-weight: bold\">4</span>. Delete Task\n",
              "</pre>\n"
            ]
          },
          "metadata": {}
        },
        {
          "output_type": "display_data",
          "data": {
            "text/plain": [
              "\u001b[1;36m5\u001b[0m. Exit\n",
              "\n"
            ],
            "text/html": [
              "<pre style=\"white-space:pre;overflow-x:auto;line-height:normal;font-family:Menlo,'DejaVu Sans Mono',consolas,'Courier New',monospace\"><span style=\"color: #008080; text-decoration-color: #008080; font-weight: bold\">5</span>. Exit\n",
              "\n",
              "</pre>\n"
            ]
          },
          "metadata": {}
        },
        {
          "output_type": "display_data",
          "data": {
            "text/plain": [
              "Choose an option \u001b[1;35m[1/2/3/4/5]\u001b[0m: "
            ],
            "text/html": [
              "<pre style=\"white-space:pre;overflow-x:auto;line-height:normal;font-family:Menlo,'DejaVu Sans Mono',consolas,'Courier New',monospace\">Choose an option <span style=\"color: #800080; text-decoration-color: #800080; font-weight: bold\">[1/2/3/4/5]</span>: </pre>\n"
            ]
          },
          "metadata": {}
        }
      ],
      "source": [
        "from rich.console import Console\n",
        "from rich.table import Table\n",
        "from rich.prompt import Prompt, Confirm\n",
        "from rich import box\n",
        "import json\n",
        "import os\n",
        "\n",
        "console = Console()\n",
        "TASKS_FILE = \"tasks.json\"\n",
        "\n",
        "def load_tasks():\n",
        "    if os.path.exists(TASKS_FILE):\n",
        "        with open(TASKS_FILE, \"r\") as f:\n",
        "            return json.load(f)\n",
        "    return []\n",
        "\n",
        "def save_tasks(tasks):\n",
        "    with open(TASKS_FILE, \"w\") as f:\n",
        "        json.dump(tasks, f, indent=4)\n",
        "\n",
        "def show_tasks(tasks):\n",
        "    console.clear()\n",
        "    table = Table(title=\"📝 TO-DO LIST\", box=box.DOUBLE_EDGE, style=\"bold cyan\")\n",
        "    table.add_column(\"No.\", justify=\"center\", style=\"bold yellow\")\n",
        "    table.add_column(\"Task\", justify=\"left\")\n",
        "    table.add_column(\"Status\", justify=\"center\")\n",
        "\n",
        "    if not tasks:\n",
        "        console.print(\"[bold red]No tasks found. Add some tasks![/bold red]\")\n",
        "        return\n",
        "\n",
        "    for i, task in enumerate(tasks, start=1):\n",
        "        status = \"[green]✓ Done[/green]\" if task[\"done\"] else \"[red]✗ Not done[/red]\"\n",
        "        table.add_row(str(i), task[\"title\"], status)\n",
        "\n",
        "    console.print(table)\n",
        "\n",
        "def add_task(tasks):\n",
        "    title = Prompt.ask(\"Enter task title\").strip()\n",
        "    if title:\n",
        "        tasks.append({\"title\": title, \"done\": False})\n",
        "        console.print(f\"[green]Task added![/green]\")\n",
        "    else:\n",
        "        console.print(\"[red]Empty title not allowed.[/red]\")\n",
        "\n",
        "def toggle_done(tasks):\n",
        "    show_tasks(tasks)\n",
        "    if not tasks:\n",
        "        return\n",
        "    try:\n",
        "        idx = int(Prompt.ask(\"Enter task number to toggle status\")) - 1\n",
        "        tasks[idx][\"done\"] = not tasks[idx][\"done\"]\n",
        "        console.print(\"[green]Status toggled.[/green]\")\n",
        "    except (ValueError, IndexError):\n",
        "        console.print(\"[red]Invalid selection.[/red]\")\n",
        "\n",
        "\n",
        "def delete_task(tasks):\n",
        "    show_tasks(tasks)\n",
        "    if not tasks:\n",
        "        return\n",
        "    try:\n",
        "        idx = int(Prompt.ask(\"Enter task number to delete\")) - 1\n",
        "        confirm = Confirm.ask(f\"Delete task: {tasks[idx]['title']}?\")\n",
        "        if confirm:\n",
        "            tasks.pop(idx)\n",
        "            console.print(\"[red]Task deleted.[/red]\")\n",
        "    except (ValueError, IndexError):\n",
        "        console.print(\"[red]Invalid selection.[/red]\")\n",
        "\n",
        "\n",
        "def edit_task(tasks):\n",
        "    show_tasks(tasks)\n",
        "    if not tasks:\n",
        "        return\n",
        "    try:\n",
        "        idx = int(Prompt.ask(\"Enter task number to edit\")) - 1\n",
        "        new_title = Prompt.ask(\"Enter new task title\").strip()\n",
        "        if new_title:\n",
        "            tasks[idx][\"title\"] = new_title\n",
        "            console.print(\"[green]Task updated![/green]\")\n",
        "        else:\n",
        "            console.print(\"[red]Title cannot be empty.[/red]\")\n",
        "    except (ValueError, IndexError):\n",
        "        console.print(\"[red]Invalid selection.[/red]\")\n",
        "\n",
        "def main():\n",
        "    tasks = load_tasks()\n",
        "    while True:\n",
        "        show_tasks(tasks)\n",
        "        console.print(\"\\n[bold magenta]MENU:[/bold magenta]\")\n",
        "        console.print(\"1. Add Task\")\n",
        "        console.print(\"2. Mark Done/Undone\")\n",
        "        console.print(\"3. Edit Task\")\n",
        "        console.print(\"4. Delete Task\")\n",
        "        console.print(\"5. Exit\\n\")\n",
        "\n",
        "        choice = Prompt.ask(\"Choose an option\", choices=[\"1\",\"2\",\"3\",\"4\",\"5\"])\n",
        "\n",
        "        if choice == \"1\":\n",
        "            add_task(tasks)\n",
        "        elif choice == \"2\":\n",
        "            toggle_done(tasks)\n",
        "        elif choice == \"3\":\n",
        "            edit_task(tasks)\n",
        "        elif choice == \"4\":\n",
        "            delete_task(tasks)\n",
        "        elif choice == \"5\":\n",
        "            save_tasks(tasks)\n",
        "            console.print(\"[bold green]Goodbye![/bold green]\")\n",
        "            break\n",
        "\n",
        "        save_tasks(tasks)\n",
        "\n",
        "if __name__ == \"__main__\":\n",
        "    main()\n"
      ]
    }
  ]
}